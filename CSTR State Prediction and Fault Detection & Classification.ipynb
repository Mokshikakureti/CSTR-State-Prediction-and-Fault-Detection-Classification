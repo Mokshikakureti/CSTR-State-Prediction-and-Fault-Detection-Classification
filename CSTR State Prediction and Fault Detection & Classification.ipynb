{
  "metadata": {
    "kernelspec": {
      "language": "python",
      "display_name": "Python 3",
      "name": "python3"
    },
    "language_info": {
      "name": "python",
      "version": "3.10.13",
      "mimetype": "text/x-python",
      "codemirror_mode": {
        "name": "ipython",
        "version": 3
      },
      "pygments_lexer": "ipython3",
      "nbconvert_exporter": "python",
      "file_extension": ".py"
    },
    "kaggle": {
      "accelerator": "none",
      "dataSources": [
        {
          "sourceId": 5285800,
          "sourceType": "datasetVersion",
          "datasetId": 3074934
        }
      ],
      "dockerImageVersionId": 30673,
      "isInternetEnabled": true,
      "language": "python",
      "sourceType": "notebook",
      "isGpuEnabled": false
    },
    "colab": {
      "provenance": []
    }
  },
  "nbformat_minor": 0,
  "nbformat": 4,
  "cells": [
    {
      "cell_type": "code",
      "source": [
        "import os\n",
        "import numpy as np\n",
        "import matplotlib.pyplot as plt\n",
        "import pandas as pd\n",
        "import seaborn as sns\n",
        "\n",
        "from sklearn.model_selection import train_test_split\n",
        "from sklearn.metrics import confusion_matrix\n",
        "\n",
        "from sklearn.decomposition import PCA\n",
        "from sklearn.neighbors import KNeighborsClassifier\n",
        "from sklearn.pipeline import Pipeline\n",
        "from sklearn.preprocessing import StandardScaler\n",
        "from sklearn.svm import SVC\n",
        "from sklearn.linear_model import LogisticRegression\n",
        "from sklearn.neural_network import MLPClassifier\n",
        "\n",
        "from sklearn.neural_network import MLPRegressor\n",
        "from sklearn.model_selection import train_test_split\n",
        "from sklearn.metrics import mean_squared_error"
      ],
      "metadata": {
        "_uuid": "8f2839f25d086af736a60e9eeb907d3b93b6e0e5",
        "_cell_guid": "b1076dfc-b9ad-4769-8c92-a6c4dae69d19",
        "execution": {
          "iopub.status.busy": "2024-04-24T13:07:30.183940Z",
          "iopub.execute_input": "2024-04-24T13:07:30.184798Z",
          "iopub.status.idle": "2024-04-24T13:07:33.341697Z",
          "shell.execute_reply.started": "2024-04-24T13:07:30.184730Z",
          "shell.execute_reply": "2024-04-24T13:07:33.340506Z"
        },
        "trusted": true,
        "id": "gKt6GH2vNHVd"
      },
      "execution_count": 1,
      "outputs": []
    },
    {
      "cell_type": "markdown",
      "source": [
        "# Load Data"
      ],
      "metadata": {
        "id": "VTfwzcTVNHVi"
      }
    },
    {
      "cell_type": "code",
      "source": [
        "#dataset = np.load('/kaggle/input/continuous-stirred-tank-reactor-domain-adaptation/cstr_rawdata.npy')\n",
        "#df = pd.DataFrame(dataset).rename(columns = {1400:'class_label', 1401:'domain_label', 1402:'parameter_noise', 1403:'reaction_order'})\n",
        "df = pd.read_csv(\"/content/cstr_data.csv\")"
      ],
      "metadata": {
        "execution": {
          "iopub.status.busy": "2024-04-24T13:07:33.343642Z",
          "iopub.execute_input": "2024-04-24T13:07:33.344161Z",
          "iopub.status.idle": "2024-04-24T13:07:33.872340Z",
          "shell.execute_reply.started": "2024-04-24T13:07:33.344128Z",
          "shell.execute_reply": "2024-04-24T13:07:33.870956Z"
        },
        "trusted": true,
        "id": "3cwHXz_2NHVk"
      },
      "execution_count": 4,
      "outputs": []
    },
    {
      "cell_type": "code",
      "source": [
        "df"
      ],
      "metadata": {
        "execution": {
          "iopub.status.busy": "2024-04-24T13:07:33.873880Z",
          "iopub.execute_input": "2024-04-24T13:07:33.874347Z",
          "iopub.status.idle": "2024-04-24T13:07:33.926816Z",
          "shell.execute_reply.started": "2024-04-24T13:07:33.874307Z",
          "shell.execute_reply": "2024-04-24T13:07:33.925609Z"
        },
        "trusted": true,
        "colab": {
          "base_uri": "https://localhost:8080/",
          "height": 431
        },
        "id": "3n5HczUmNHVk",
        "outputId": "00107859-fe1d-46f1-9d9e-4294e4fd9ba6"
      },
      "execution_count": 5,
      "outputs": [
        {
          "output_type": "execute_result",
          "data": {
            "text/plain": [
              "            0         1         2         3         4         5         6  \\\n",
              "0    0.999719  0.999854  1.000517  0.999764  0.999982  1.000978  1.000314   \n",
              "1    1.002411  1.000820  1.001000  0.999042  0.999200  1.001231  1.001470   \n",
              "2    0.999197  0.998922  1.000095  0.999389  0.999128  0.999978  0.999889   \n",
              "3    1.000770  1.000499  0.999830  1.000854  1.001071  1.001708  0.999969   \n",
              "4    1.001674  1.000058  0.999202  0.998686  0.999539  0.999194  1.000795   \n",
              "..        ...       ...       ...       ...       ...       ...       ...   \n",
              "477  0.999964  1.001357  1.000251  1.002037  0.998911  1.000019  1.000617   \n",
              "478  0.997857  1.000363  0.999831  0.999420  0.999296  1.000124  0.999513   \n",
              "479  0.998252  1.000654  0.998278  1.000781  0.998258  1.000398  1.000466   \n",
              "480  0.999516  1.000774  0.998361  1.001239  1.001261  0.999941  0.999338   \n",
              "481  1.000548  1.001368  1.000399  0.998512  0.999497  1.000353  0.999732   \n",
              "\n",
              "            7         8         9  ...        1394        1395        1396  \\\n",
              "0    0.999953  0.999051  1.000165  ...   10.097724   10.042699    9.963228   \n",
              "1    1.001782  0.999543  0.999201  ...    9.731097   10.080027    9.896257   \n",
              "2    1.001926  1.000072  0.999326  ...   10.041097    9.745254   10.877219   \n",
              "3    0.998799  1.000446  0.999382  ...   10.570380    9.610376   10.546058   \n",
              "4    1.000007  0.999421  1.000157  ...    9.787158    9.954904   10.416254   \n",
              "..        ...       ...       ...  ...         ...         ...         ...   \n",
              "477  1.000612  1.001481  0.999534  ...  148.736242  152.867558  138.795945   \n",
              "478  0.999951  1.000458  0.999766  ...  151.336607  155.687944  141.355270   \n",
              "479  1.000679  0.998772  1.000815  ...  150.205401  151.736768  154.414727   \n",
              "480  0.998933  0.999197  0.998665  ...  141.100363  156.565408  148.219072   \n",
              "481  1.000471  0.998461  1.001196  ...         NaN         NaN         NaN   \n",
              "\n",
              "           1397        1398        1399  class_label  domain_label  \\\n",
              "0     10.084302   10.548740   10.032248          0.0           0.0   \n",
              "1      9.088898    9.798987   10.418807          0.0           0.0   \n",
              "2      9.592610   10.046595   10.262627          0.0           0.0   \n",
              "3     10.679968   10.282365   10.035451          0.0           0.0   \n",
              "4      9.866833   10.053383   10.025643          0.0           0.0   \n",
              "..          ...         ...         ...          ...           ...   \n",
              "477  155.277948  155.100270  140.669826          4.0           0.0   \n",
              "478  148.939082  143.437205  156.902160          4.0           0.0   \n",
              "479  150.933426  155.917360  150.479707          4.0           0.0   \n",
              "480  149.306015  150.509290  142.022129          4.0           0.0   \n",
              "481         NaN         NaN         NaN          NaN           NaN   \n",
              "\n",
              "     parameter_noise  reaction_order  \n",
              "0                0.0             1.0  \n",
              "1                0.0             1.0  \n",
              "2                0.0             1.0  \n",
              "3                0.0             1.0  \n",
              "4                0.0             1.0  \n",
              "..               ...             ...  \n",
              "477              0.0             1.0  \n",
              "478              0.0             1.0  \n",
              "479              0.0             1.0  \n",
              "480              0.0             1.0  \n",
              "481              NaN             NaN  \n",
              "\n",
              "[482 rows x 1404 columns]"
            ],
            "text/html": [
              "\n",
              "  <div id=\"df-84238cb6-4549-4209-9a38-b9c062ec47d1\" class=\"colab-df-container\">\n",
              "    <div>\n",
              "<style scoped>\n",
              "    .dataframe tbody tr th:only-of-type {\n",
              "        vertical-align: middle;\n",
              "    }\n",
              "\n",
              "    .dataframe tbody tr th {\n",
              "        vertical-align: top;\n",
              "    }\n",
              "\n",
              "    .dataframe thead th {\n",
              "        text-align: right;\n",
              "    }\n",
              "</style>\n",
              "<table border=\"1\" class=\"dataframe\">\n",
              "  <thead>\n",
              "    <tr style=\"text-align: right;\">\n",
              "      <th></th>\n",
              "      <th>0</th>\n",
              "      <th>1</th>\n",
              "      <th>2</th>\n",
              "      <th>3</th>\n",
              "      <th>4</th>\n",
              "      <th>5</th>\n",
              "      <th>6</th>\n",
              "      <th>7</th>\n",
              "      <th>8</th>\n",
              "      <th>9</th>\n",
              "      <th>...</th>\n",
              "      <th>1394</th>\n",
              "      <th>1395</th>\n",
              "      <th>1396</th>\n",
              "      <th>1397</th>\n",
              "      <th>1398</th>\n",
              "      <th>1399</th>\n",
              "      <th>class_label</th>\n",
              "      <th>domain_label</th>\n",
              "      <th>parameter_noise</th>\n",
              "      <th>reaction_order</th>\n",
              "    </tr>\n",
              "  </thead>\n",
              "  <tbody>\n",
              "    <tr>\n",
              "      <th>0</th>\n",
              "      <td>0.999719</td>\n",
              "      <td>0.999854</td>\n",
              "      <td>1.000517</td>\n",
              "      <td>0.999764</td>\n",
              "      <td>0.999982</td>\n",
              "      <td>1.000978</td>\n",
              "      <td>1.000314</td>\n",
              "      <td>0.999953</td>\n",
              "      <td>0.999051</td>\n",
              "      <td>1.000165</td>\n",
              "      <td>...</td>\n",
              "      <td>10.097724</td>\n",
              "      <td>10.042699</td>\n",
              "      <td>9.963228</td>\n",
              "      <td>10.084302</td>\n",
              "      <td>10.548740</td>\n",
              "      <td>10.032248</td>\n",
              "      <td>0.0</td>\n",
              "      <td>0.0</td>\n",
              "      <td>0.0</td>\n",
              "      <td>1.0</td>\n",
              "    </tr>\n",
              "    <tr>\n",
              "      <th>1</th>\n",
              "      <td>1.002411</td>\n",
              "      <td>1.000820</td>\n",
              "      <td>1.001000</td>\n",
              "      <td>0.999042</td>\n",
              "      <td>0.999200</td>\n",
              "      <td>1.001231</td>\n",
              "      <td>1.001470</td>\n",
              "      <td>1.001782</td>\n",
              "      <td>0.999543</td>\n",
              "      <td>0.999201</td>\n",
              "      <td>...</td>\n",
              "      <td>9.731097</td>\n",
              "      <td>10.080027</td>\n",
              "      <td>9.896257</td>\n",
              "      <td>9.088898</td>\n",
              "      <td>9.798987</td>\n",
              "      <td>10.418807</td>\n",
              "      <td>0.0</td>\n",
              "      <td>0.0</td>\n",
              "      <td>0.0</td>\n",
              "      <td>1.0</td>\n",
              "    </tr>\n",
              "    <tr>\n",
              "      <th>2</th>\n",
              "      <td>0.999197</td>\n",
              "      <td>0.998922</td>\n",
              "      <td>1.000095</td>\n",
              "      <td>0.999389</td>\n",
              "      <td>0.999128</td>\n",
              "      <td>0.999978</td>\n",
              "      <td>0.999889</td>\n",
              "      <td>1.001926</td>\n",
              "      <td>1.000072</td>\n",
              "      <td>0.999326</td>\n",
              "      <td>...</td>\n",
              "      <td>10.041097</td>\n",
              "      <td>9.745254</td>\n",
              "      <td>10.877219</td>\n",
              "      <td>9.592610</td>\n",
              "      <td>10.046595</td>\n",
              "      <td>10.262627</td>\n",
              "      <td>0.0</td>\n",
              "      <td>0.0</td>\n",
              "      <td>0.0</td>\n",
              "      <td>1.0</td>\n",
              "    </tr>\n",
              "    <tr>\n",
              "      <th>3</th>\n",
              "      <td>1.000770</td>\n",
              "      <td>1.000499</td>\n",
              "      <td>0.999830</td>\n",
              "      <td>1.000854</td>\n",
              "      <td>1.001071</td>\n",
              "      <td>1.001708</td>\n",
              "      <td>0.999969</td>\n",
              "      <td>0.998799</td>\n",
              "      <td>1.000446</td>\n",
              "      <td>0.999382</td>\n",
              "      <td>...</td>\n",
              "      <td>10.570380</td>\n",
              "      <td>9.610376</td>\n",
              "      <td>10.546058</td>\n",
              "      <td>10.679968</td>\n",
              "      <td>10.282365</td>\n",
              "      <td>10.035451</td>\n",
              "      <td>0.0</td>\n",
              "      <td>0.0</td>\n",
              "      <td>0.0</td>\n",
              "      <td>1.0</td>\n",
              "    </tr>\n",
              "    <tr>\n",
              "      <th>4</th>\n",
              "      <td>1.001674</td>\n",
              "      <td>1.000058</td>\n",
              "      <td>0.999202</td>\n",
              "      <td>0.998686</td>\n",
              "      <td>0.999539</td>\n",
              "      <td>0.999194</td>\n",
              "      <td>1.000795</td>\n",
              "      <td>1.000007</td>\n",
              "      <td>0.999421</td>\n",
              "      <td>1.000157</td>\n",
              "      <td>...</td>\n",
              "      <td>9.787158</td>\n",
              "      <td>9.954904</td>\n",
              "      <td>10.416254</td>\n",
              "      <td>9.866833</td>\n",
              "      <td>10.053383</td>\n",
              "      <td>10.025643</td>\n",
              "      <td>0.0</td>\n",
              "      <td>0.0</td>\n",
              "      <td>0.0</td>\n",
              "      <td>1.0</td>\n",
              "    </tr>\n",
              "    <tr>\n",
              "      <th>...</th>\n",
              "      <td>...</td>\n",
              "      <td>...</td>\n",
              "      <td>...</td>\n",
              "      <td>...</td>\n",
              "      <td>...</td>\n",
              "      <td>...</td>\n",
              "      <td>...</td>\n",
              "      <td>...</td>\n",
              "      <td>...</td>\n",
              "      <td>...</td>\n",
              "      <td>...</td>\n",
              "      <td>...</td>\n",
              "      <td>...</td>\n",
              "      <td>...</td>\n",
              "      <td>...</td>\n",
              "      <td>...</td>\n",
              "      <td>...</td>\n",
              "      <td>...</td>\n",
              "      <td>...</td>\n",
              "      <td>...</td>\n",
              "      <td>...</td>\n",
              "    </tr>\n",
              "    <tr>\n",
              "      <th>477</th>\n",
              "      <td>0.999964</td>\n",
              "      <td>1.001357</td>\n",
              "      <td>1.000251</td>\n",
              "      <td>1.002037</td>\n",
              "      <td>0.998911</td>\n",
              "      <td>1.000019</td>\n",
              "      <td>1.000617</td>\n",
              "      <td>1.000612</td>\n",
              "      <td>1.001481</td>\n",
              "      <td>0.999534</td>\n",
              "      <td>...</td>\n",
              "      <td>148.736242</td>\n",
              "      <td>152.867558</td>\n",
              "      <td>138.795945</td>\n",
              "      <td>155.277948</td>\n",
              "      <td>155.100270</td>\n",
              "      <td>140.669826</td>\n",
              "      <td>4.0</td>\n",
              "      <td>0.0</td>\n",
              "      <td>0.0</td>\n",
              "      <td>1.0</td>\n",
              "    </tr>\n",
              "    <tr>\n",
              "      <th>478</th>\n",
              "      <td>0.997857</td>\n",
              "      <td>1.000363</td>\n",
              "      <td>0.999831</td>\n",
              "      <td>0.999420</td>\n",
              "      <td>0.999296</td>\n",
              "      <td>1.000124</td>\n",
              "      <td>0.999513</td>\n",
              "      <td>0.999951</td>\n",
              "      <td>1.000458</td>\n",
              "      <td>0.999766</td>\n",
              "      <td>...</td>\n",
              "      <td>151.336607</td>\n",
              "      <td>155.687944</td>\n",
              "      <td>141.355270</td>\n",
              "      <td>148.939082</td>\n",
              "      <td>143.437205</td>\n",
              "      <td>156.902160</td>\n",
              "      <td>4.0</td>\n",
              "      <td>0.0</td>\n",
              "      <td>0.0</td>\n",
              "      <td>1.0</td>\n",
              "    </tr>\n",
              "    <tr>\n",
              "      <th>479</th>\n",
              "      <td>0.998252</td>\n",
              "      <td>1.000654</td>\n",
              "      <td>0.998278</td>\n",
              "      <td>1.000781</td>\n",
              "      <td>0.998258</td>\n",
              "      <td>1.000398</td>\n",
              "      <td>1.000466</td>\n",
              "      <td>1.000679</td>\n",
              "      <td>0.998772</td>\n",
              "      <td>1.000815</td>\n",
              "      <td>...</td>\n",
              "      <td>150.205401</td>\n",
              "      <td>151.736768</td>\n",
              "      <td>154.414727</td>\n",
              "      <td>150.933426</td>\n",
              "      <td>155.917360</td>\n",
              "      <td>150.479707</td>\n",
              "      <td>4.0</td>\n",
              "      <td>0.0</td>\n",
              "      <td>0.0</td>\n",
              "      <td>1.0</td>\n",
              "    </tr>\n",
              "    <tr>\n",
              "      <th>480</th>\n",
              "      <td>0.999516</td>\n",
              "      <td>1.000774</td>\n",
              "      <td>0.998361</td>\n",
              "      <td>1.001239</td>\n",
              "      <td>1.001261</td>\n",
              "      <td>0.999941</td>\n",
              "      <td>0.999338</td>\n",
              "      <td>0.998933</td>\n",
              "      <td>0.999197</td>\n",
              "      <td>0.998665</td>\n",
              "      <td>...</td>\n",
              "      <td>141.100363</td>\n",
              "      <td>156.565408</td>\n",
              "      <td>148.219072</td>\n",
              "      <td>149.306015</td>\n",
              "      <td>150.509290</td>\n",
              "      <td>142.022129</td>\n",
              "      <td>4.0</td>\n",
              "      <td>0.0</td>\n",
              "      <td>0.0</td>\n",
              "      <td>1.0</td>\n",
              "    </tr>\n",
              "    <tr>\n",
              "      <th>481</th>\n",
              "      <td>1.000548</td>\n",
              "      <td>1.001368</td>\n",
              "      <td>1.000399</td>\n",
              "      <td>0.998512</td>\n",
              "      <td>0.999497</td>\n",
              "      <td>1.000353</td>\n",
              "      <td>0.999732</td>\n",
              "      <td>1.000471</td>\n",
              "      <td>0.998461</td>\n",
              "      <td>1.001196</td>\n",
              "      <td>...</td>\n",
              "      <td>NaN</td>\n",
              "      <td>NaN</td>\n",
              "      <td>NaN</td>\n",
              "      <td>NaN</td>\n",
              "      <td>NaN</td>\n",
              "      <td>NaN</td>\n",
              "      <td>NaN</td>\n",
              "      <td>NaN</td>\n",
              "      <td>NaN</td>\n",
              "      <td>NaN</td>\n",
              "    </tr>\n",
              "  </tbody>\n",
              "</table>\n",
              "<p>482 rows × 1404 columns</p>\n",
              "</div>\n",
              "    <div class=\"colab-df-buttons\">\n",
              "\n",
              "  <div class=\"colab-df-container\">\n",
              "    <button class=\"colab-df-convert\" onclick=\"convertToInteractive('df-84238cb6-4549-4209-9a38-b9c062ec47d1')\"\n",
              "            title=\"Convert this dataframe to an interactive table.\"\n",
              "            style=\"display:none;\">\n",
              "\n",
              "  <svg xmlns=\"http://www.w3.org/2000/svg\" height=\"24px\" viewBox=\"0 -960 960 960\">\n",
              "    <path d=\"M120-120v-720h720v720H120Zm60-500h600v-160H180v160Zm220 220h160v-160H400v160Zm0 220h160v-160H400v160ZM180-400h160v-160H180v160Zm440 0h160v-160H620v160ZM180-180h160v-160H180v160Zm440 0h160v-160H620v160Z\"/>\n",
              "  </svg>\n",
              "    </button>\n",
              "\n",
              "  <style>\n",
              "    .colab-df-container {\n",
              "      display:flex;\n",
              "      gap: 12px;\n",
              "    }\n",
              "\n",
              "    .colab-df-convert {\n",
              "      background-color: #E8F0FE;\n",
              "      border: none;\n",
              "      border-radius: 50%;\n",
              "      cursor: pointer;\n",
              "      display: none;\n",
              "      fill: #1967D2;\n",
              "      height: 32px;\n",
              "      padding: 0 0 0 0;\n",
              "      width: 32px;\n",
              "    }\n",
              "\n",
              "    .colab-df-convert:hover {\n",
              "      background-color: #E2EBFA;\n",
              "      box-shadow: 0px 1px 2px rgba(60, 64, 67, 0.3), 0px 1px 3px 1px rgba(60, 64, 67, 0.15);\n",
              "      fill: #174EA6;\n",
              "    }\n",
              "\n",
              "    .colab-df-buttons div {\n",
              "      margin-bottom: 4px;\n",
              "    }\n",
              "\n",
              "    [theme=dark] .colab-df-convert {\n",
              "      background-color: #3B4455;\n",
              "      fill: #D2E3FC;\n",
              "    }\n",
              "\n",
              "    [theme=dark] .colab-df-convert:hover {\n",
              "      background-color: #434B5C;\n",
              "      box-shadow: 0px 1px 3px 1px rgba(0, 0, 0, 0.15);\n",
              "      filter: drop-shadow(0px 1px 2px rgba(0, 0, 0, 0.3));\n",
              "      fill: #FFFFFF;\n",
              "    }\n",
              "  </style>\n",
              "\n",
              "    <script>\n",
              "      const buttonEl =\n",
              "        document.querySelector('#df-84238cb6-4549-4209-9a38-b9c062ec47d1 button.colab-df-convert');\n",
              "      buttonEl.style.display =\n",
              "        google.colab.kernel.accessAllowed ? 'block' : 'none';\n",
              "\n",
              "      async function convertToInteractive(key) {\n",
              "        const element = document.querySelector('#df-84238cb6-4549-4209-9a38-b9c062ec47d1');\n",
              "        const dataTable =\n",
              "          await google.colab.kernel.invokeFunction('convertToInteractive',\n",
              "                                                    [key], {});\n",
              "        if (!dataTable) return;\n",
              "\n",
              "        const docLinkHtml = 'Like what you see? Visit the ' +\n",
              "          '<a target=\"_blank\" href=https://colab.research.google.com/notebooks/data_table.ipynb>data table notebook</a>'\n",
              "          + ' to learn more about interactive tables.';\n",
              "        element.innerHTML = '';\n",
              "        dataTable['output_type'] = 'display_data';\n",
              "        await google.colab.output.renderOutput(dataTable, element);\n",
              "        const docLink = document.createElement('div');\n",
              "        docLink.innerHTML = docLinkHtml;\n",
              "        element.appendChild(docLink);\n",
              "      }\n",
              "    </script>\n",
              "  </div>\n",
              "\n",
              "\n",
              "<div id=\"df-999635b3-1ae8-403d-8578-c4cf3a537793\">\n",
              "  <button class=\"colab-df-quickchart\" onclick=\"quickchart('df-999635b3-1ae8-403d-8578-c4cf3a537793')\"\n",
              "            title=\"Suggest charts\"\n",
              "            style=\"display:none;\">\n",
              "\n",
              "<svg xmlns=\"http://www.w3.org/2000/svg\" height=\"24px\"viewBox=\"0 0 24 24\"\n",
              "     width=\"24px\">\n",
              "    <g>\n",
              "        <path d=\"M19 3H5c-1.1 0-2 .9-2 2v14c0 1.1.9 2 2 2h14c1.1 0 2-.9 2-2V5c0-1.1-.9-2-2-2zM9 17H7v-7h2v7zm4 0h-2V7h2v10zm4 0h-2v-4h2v4z\"/>\n",
              "    </g>\n",
              "</svg>\n",
              "  </button>\n",
              "\n",
              "<style>\n",
              "  .colab-df-quickchart {\n",
              "      --bg-color: #E8F0FE;\n",
              "      --fill-color: #1967D2;\n",
              "      --hover-bg-color: #E2EBFA;\n",
              "      --hover-fill-color: #174EA6;\n",
              "      --disabled-fill-color: #AAA;\n",
              "      --disabled-bg-color: #DDD;\n",
              "  }\n",
              "\n",
              "  [theme=dark] .colab-df-quickchart {\n",
              "      --bg-color: #3B4455;\n",
              "      --fill-color: #D2E3FC;\n",
              "      --hover-bg-color: #434B5C;\n",
              "      --hover-fill-color: #FFFFFF;\n",
              "      --disabled-bg-color: #3B4455;\n",
              "      --disabled-fill-color: #666;\n",
              "  }\n",
              "\n",
              "  .colab-df-quickchart {\n",
              "    background-color: var(--bg-color);\n",
              "    border: none;\n",
              "    border-radius: 50%;\n",
              "    cursor: pointer;\n",
              "    display: none;\n",
              "    fill: var(--fill-color);\n",
              "    height: 32px;\n",
              "    padding: 0;\n",
              "    width: 32px;\n",
              "  }\n",
              "\n",
              "  .colab-df-quickchart:hover {\n",
              "    background-color: var(--hover-bg-color);\n",
              "    box-shadow: 0 1px 2px rgba(60, 64, 67, 0.3), 0 1px 3px 1px rgba(60, 64, 67, 0.15);\n",
              "    fill: var(--button-hover-fill-color);\n",
              "  }\n",
              "\n",
              "  .colab-df-quickchart-complete:disabled,\n",
              "  .colab-df-quickchart-complete:disabled:hover {\n",
              "    background-color: var(--disabled-bg-color);\n",
              "    fill: var(--disabled-fill-color);\n",
              "    box-shadow: none;\n",
              "  }\n",
              "\n",
              "  .colab-df-spinner {\n",
              "    border: 2px solid var(--fill-color);\n",
              "    border-color: transparent;\n",
              "    border-bottom-color: var(--fill-color);\n",
              "    animation:\n",
              "      spin 1s steps(1) infinite;\n",
              "  }\n",
              "\n",
              "  @keyframes spin {\n",
              "    0% {\n",
              "      border-color: transparent;\n",
              "      border-bottom-color: var(--fill-color);\n",
              "      border-left-color: var(--fill-color);\n",
              "    }\n",
              "    20% {\n",
              "      border-color: transparent;\n",
              "      border-left-color: var(--fill-color);\n",
              "      border-top-color: var(--fill-color);\n",
              "    }\n",
              "    30% {\n",
              "      border-color: transparent;\n",
              "      border-left-color: var(--fill-color);\n",
              "      border-top-color: var(--fill-color);\n",
              "      border-right-color: var(--fill-color);\n",
              "    }\n",
              "    40% {\n",
              "      border-color: transparent;\n",
              "      border-right-color: var(--fill-color);\n",
              "      border-top-color: var(--fill-color);\n",
              "    }\n",
              "    60% {\n",
              "      border-color: transparent;\n",
              "      border-right-color: var(--fill-color);\n",
              "    }\n",
              "    80% {\n",
              "      border-color: transparent;\n",
              "      border-right-color: var(--fill-color);\n",
              "      border-bottom-color: var(--fill-color);\n",
              "    }\n",
              "    90% {\n",
              "      border-color: transparent;\n",
              "      border-bottom-color: var(--fill-color);\n",
              "    }\n",
              "  }\n",
              "</style>\n",
              "\n",
              "  <script>\n",
              "    async function quickchart(key) {\n",
              "      const quickchartButtonEl =\n",
              "        document.querySelector('#' + key + ' button');\n",
              "      quickchartButtonEl.disabled = true;  // To prevent multiple clicks.\n",
              "      quickchartButtonEl.classList.add('colab-df-spinner');\n",
              "      try {\n",
              "        const charts = await google.colab.kernel.invokeFunction(\n",
              "            'suggestCharts', [key], {});\n",
              "      } catch (error) {\n",
              "        console.error('Error during call to suggestCharts:', error);\n",
              "      }\n",
              "      quickchartButtonEl.classList.remove('colab-df-spinner');\n",
              "      quickchartButtonEl.classList.add('colab-df-quickchart-complete');\n",
              "    }\n",
              "    (() => {\n",
              "      let quickchartButtonEl =\n",
              "        document.querySelector('#df-999635b3-1ae8-403d-8578-c4cf3a537793 button');\n",
              "      quickchartButtonEl.style.display =\n",
              "        google.colab.kernel.accessAllowed ? 'block' : 'none';\n",
              "    })();\n",
              "  </script>\n",
              "</div>\n",
              "\n",
              "  <div id=\"id_71821eff-8b6e-4112-8f01-26f77343e4b7\">\n",
              "    <style>\n",
              "      .colab-df-generate {\n",
              "        background-color: #E8F0FE;\n",
              "        border: none;\n",
              "        border-radius: 50%;\n",
              "        cursor: pointer;\n",
              "        display: none;\n",
              "        fill: #1967D2;\n",
              "        height: 32px;\n",
              "        padding: 0 0 0 0;\n",
              "        width: 32px;\n",
              "      }\n",
              "\n",
              "      .colab-df-generate:hover {\n",
              "        background-color: #E2EBFA;\n",
              "        box-shadow: 0px 1px 2px rgba(60, 64, 67, 0.3), 0px 1px 3px 1px rgba(60, 64, 67, 0.15);\n",
              "        fill: #174EA6;\n",
              "      }\n",
              "\n",
              "      [theme=dark] .colab-df-generate {\n",
              "        background-color: #3B4455;\n",
              "        fill: #D2E3FC;\n",
              "      }\n",
              "\n",
              "      [theme=dark] .colab-df-generate:hover {\n",
              "        background-color: #434B5C;\n",
              "        box-shadow: 0px 1px 3px 1px rgba(0, 0, 0, 0.15);\n",
              "        filter: drop-shadow(0px 1px 2px rgba(0, 0, 0, 0.3));\n",
              "        fill: #FFFFFF;\n",
              "      }\n",
              "    </style>\n",
              "    <button class=\"colab-df-generate\" onclick=\"generateWithVariable('df')\"\n",
              "            title=\"Generate code using this dataframe.\"\n",
              "            style=\"display:none;\">\n",
              "\n",
              "  <svg xmlns=\"http://www.w3.org/2000/svg\" height=\"24px\"viewBox=\"0 0 24 24\"\n",
              "       width=\"24px\">\n",
              "    <path d=\"M7,19H8.4L18.45,9,17,7.55,7,17.6ZM5,21V16.75L18.45,3.32a2,2,0,0,1,2.83,0l1.4,1.43a1.91,1.91,0,0,1,.58,1.4,1.91,1.91,0,0,1-.58,1.4L9.25,21ZM18.45,9,17,7.55Zm-12,3A5.31,5.31,0,0,0,4.9,8.1,5.31,5.31,0,0,0,1,6.5,5.31,5.31,0,0,0,4.9,4.9,5.31,5.31,0,0,0,6.5,1,5.31,5.31,0,0,0,8.1,4.9,5.31,5.31,0,0,0,12,6.5,5.46,5.46,0,0,0,6.5,12Z\"/>\n",
              "  </svg>\n",
              "    </button>\n",
              "    <script>\n",
              "      (() => {\n",
              "      const buttonEl =\n",
              "        document.querySelector('#id_71821eff-8b6e-4112-8f01-26f77343e4b7 button.colab-df-generate');\n",
              "      buttonEl.style.display =\n",
              "        google.colab.kernel.accessAllowed ? 'block' : 'none';\n",
              "\n",
              "      buttonEl.onclick = () => {\n",
              "        google.colab.notebook.generateWithVariable('df');\n",
              "      }\n",
              "      })();\n",
              "    </script>\n",
              "  </div>\n",
              "\n",
              "    </div>\n",
              "  </div>\n"
            ],
            "application/vnd.google.colaboratory.intrinsic+json": {
              "type": "dataframe",
              "variable_name": "df"
            }
          },
          "metadata": {},
          "execution_count": 5
        }
      ]
    },
    {
      "cell_type": "code",
      "source": [
        "df['domain_label'].value_counts()"
      ],
      "metadata": {
        "execution": {
          "iopub.status.busy": "2024-04-24T13:07:33.929267Z",
          "iopub.execute_input": "2024-04-24T13:07:33.929630Z",
          "iopub.status.idle": "2024-04-24T13:07:33.947284Z",
          "shell.execute_reply.started": "2024-04-24T13:07:33.929598Z",
          "shell.execute_reply": "2024-04-24T13:07:33.946088Z"
        },
        "trusted": true,
        "colab": {
          "base_uri": "https://localhost:8080/"
        },
        "id": "ju4zmr4lNHVl",
        "outputId": "f23cf4d0-720e-4a9b-a7f8-4e66a86f6069"
      },
      "execution_count": 7,
      "outputs": [
        {
          "output_type": "execute_result",
          "data": {
            "text/plain": [
              "domain_label\n",
              "0.0    481\n",
              "Name: count, dtype: int64"
            ]
          },
          "metadata": {},
          "execution_count": 7
        }
      ]
    },
    {
      "cell_type": "markdown",
      "source": [
        "# State Prediction"
      ],
      "metadata": {
        "id": "9jhpyJb-NHVx"
      }
    },
    {
      "cell_type": "code",
      "source": [
        "data = []\n",
        "for idx in df[df['domain_label'] == 0].index:\n",
        "    row = np.array(df.iloc[idx, :-4])\n",
        "    data.append(row.reshape(200,7))\n",
        "\n",
        "data = np.array(data)\n",
        "print(data.shape)"
      ],
      "metadata": {
        "execution": {
          "iopub.status.busy": "2024-04-24T14:36:08.847833Z",
          "iopub.execute_input": "2024-04-24T14:36:08.848206Z",
          "iopub.status.idle": "2024-04-24T14:36:09.131577Z",
          "shell.execute_reply.started": "2024-04-24T14:36:08.848174Z",
          "shell.execute_reply": "2024-04-24T14:36:09.130400Z"
        },
        "trusted": true,
        "colab": {
          "base_uri": "https://localhost:8080/"
        },
        "id": "y4dx9HX9NHVx",
        "outputId": "781b461e-885b-46af-cd49-6ac4c6c9f58e"
      },
      "execution_count": 8,
      "outputs": [
        {
          "output_type": "stream",
          "name": "stdout",
          "text": [
            "(481, 200, 7)\n"
          ]
        }
      ]
    },
    {
      "cell_type": "code",
      "source": [
        "train, test = train_test_split(data, test_size=0.2, random_state=53)\n",
        "\n",
        "lis = []\n",
        "for i in range(train.shape[0]):\n",
        "    for j in range(10):\n",
        "        lis.append(train[i][j*20:(j+1)*20,:])\n",
        "\n",
        "X_train = np.array(lis)[:,:-1, :].reshape(-1, 19*7)\n",
        "y_train = np.array(lis)[:,-1, :]\n",
        "\n",
        "lis = []\n",
        "for i in range(test.shape[0]):\n",
        "    for j in range(10):\n",
        "        lis.append(test[i][j*20:(j+1)*20,:])\n",
        "\n",
        "X_test = np.array(lis)[:,:-1, :].reshape(-1, 19*7)\n",
        "y_test = np.array(lis)[:,-1, :]"
      ],
      "metadata": {
        "execution": {
          "iopub.status.busy": "2024-04-24T14:36:09.133534Z",
          "iopub.execute_input": "2024-04-24T14:36:09.133895Z",
          "iopub.status.idle": "2024-04-24T14:36:09.186940Z",
          "shell.execute_reply.started": "2024-04-24T14:36:09.133865Z",
          "shell.execute_reply": "2024-04-24T14:36:09.186092Z"
        },
        "trusted": true,
        "id": "ITA17LvaNHVy"
      },
      "execution_count": 9,
      "outputs": []
    },
    {
      "cell_type": "code",
      "source": [
        "mlp = MLPRegressor(hidden_layer_sizes=(100, 50), activation='relu', solver='adam', max_iter=500, random_state=42)\n",
        "mlp.fit(X_train, y_train)\n",
        "\n",
        "y_pred = mlp.predict(X_test)\n",
        "\n",
        "mse = mean_squared_error(y_test, y_pred)\n",
        "print(\"Mean Squared Error:\", mse)"
      ],
      "metadata": {
        "execution": {
          "iopub.status.busy": "2024-04-24T14:36:09.188409Z",
          "iopub.execute_input": "2024-04-24T14:36:09.188739Z",
          "iopub.status.idle": "2024-04-24T14:36:16.825625Z",
          "shell.execute_reply.started": "2024-04-24T14:36:09.188713Z",
          "shell.execute_reply": "2024-04-24T14:36:16.824584Z"
        },
        "trusted": true,
        "colab": {
          "base_uri": "https://localhost:8080/"
        },
        "id": "18bBsA5GNHVy",
        "outputId": "fa5562b4-495e-4088-e706-cde9a87a1ad4"
      },
      "execution_count": 10,
      "outputs": [
        {
          "output_type": "stream",
          "name": "stdout",
          "text": [
            "Mean Squared Error: 51.8173936784821\n"
          ]
        }
      ]
    },
    {
      "cell_type": "code",
      "source": [
        "def mean_absolute_deviation_percentage(y_true, y_pred):\n",
        "    abs_diff = np.abs(y_true - y_pred)\n",
        "    abs_deviation = np.mean(abs_diff, axis=0)\n",
        "    true_mean = np.mean(y_true, axis=0)\n",
        "    mad_percentage = np.mean(abs_deviation / true_mean) * 100\n",
        "    return mad_percentage\n",
        "\n",
        "mad_percentage = mean_absolute_deviation_percentage(y_test, y_pred)\n",
        "print(\"Avg of Mean Absolute Deviation Percentage (MAD %) across all variables:\", mad_percentage)"
      ],
      "metadata": {
        "execution": {
          "iopub.status.busy": "2024-04-24T14:46:08.080392Z",
          "iopub.execute_input": "2024-04-24T14:46:08.080788Z",
          "iopub.status.idle": "2024-04-24T14:46:08.088780Z",
          "shell.execute_reply.started": "2024-04-24T14:46:08.080740Z",
          "shell.execute_reply": "2024-04-24T14:46:08.087673Z"
        },
        "trusted": true,
        "colab": {
          "base_uri": "https://localhost:8080/"
        },
        "id": "ZoNTit9xNHVz",
        "outputId": "87a53b0e-5b2d-4b21-a83d-93ebf2e23419"
      },
      "execution_count": 11,
      "outputs": [
        {
          "output_type": "stream",
          "name": "stdout",
          "text": [
            "Avg of Mean Absolute Deviation Percentage (MAD %) across all variables: 1.274620944556824\n"
          ]
        }
      ]
    },
    {
      "cell_type": "code",
      "source": [
        "abs_deviation = np.mean(np.abs(y_test - y_pred), axis=0)\n",
        "true_mean = np.mean(y_test, axis=0)\n",
        "variable_wise_error = (abs_deviation / true_mean) * 100\n",
        "\n",
        "for i in range(7):\n",
        "    print(f\"Error (MAD %) in state variable {i+1} is {variable_wise_error[i]}%\")"
      ],
      "metadata": {
        "execution": {
          "iopub.status.busy": "2024-04-24T14:59:49.025599Z",
          "iopub.execute_input": "2024-04-24T14:59:49.025981Z",
          "iopub.status.idle": "2024-04-24T14:59:49.032963Z",
          "shell.execute_reply.started": "2024-04-24T14:59:49.025951Z",
          "shell.execute_reply": "2024-04-24T14:59:49.031917Z"
        },
        "trusted": true,
        "colab": {
          "base_uri": "https://localhost:8080/"
        },
        "id": "BFZu2WWPNHVz",
        "outputId": "e9cacd16-2a6c-41d8-b93b-c48588cc9c61"
      },
      "execution_count": 12,
      "outputs": [
        {
          "output_type": "stream",
          "name": "stdout",
          "text": [
            "Error (MAD %) in state variable 1 is 1.1750050450247085%\n",
            "Error (MAD %) in state variable 2 is 1.156839314950158%\n",
            "Error (MAD %) in state variable 3 is 1.1830772441705812%\n",
            "Error (MAD %) in state variable 4 is 1.5703241744943783%\n",
            "Error (MAD %) in state variable 5 is 1.447670416703445%\n",
            "Error (MAD %) in state variable 6 is 1.1750786934905348%\n",
            "Error (MAD %) in state variable 7 is 1.2143517230639622%\n"
          ]
        }
      ]
    },
    {
      "cell_type": "markdown",
      "source": [
        "### Prediciting more than one time step ahead"
      ],
      "metadata": {
        "id": "tWV5WhAjNHV0"
      }
    },
    {
      "cell_type": "markdown",
      "source": [
        "Predict t+1 and use it as part of input of model again to get t+2 and so on"
      ],
      "metadata": {
        "id": "XJstYQwCNHV0"
      }
    },
    {
      "cell_type": "code",
      "source": [
        "error ={\n",
        "    1:[],\n",
        "    2:[],\n",
        "    3:[],\n",
        "    4:[],\n",
        "    5:[],\n",
        "    6:[],\n",
        "    7:[],\n",
        "    8:[],\n",
        "    9:[],\n",
        "    10:[],\n",
        "}\n",
        "for i in range(test.shape[0]):\n",
        "    sequence = test[i]\n",
        "    for j in range(0, 200, 30):\n",
        "        if j == 180: continue\n",
        "        true_sample = sequence[j:j+30,:]\n",
        "        model_input_sample = true_sample[:19, :]\n",
        "\n",
        "        for t in range(1, 11):\n",
        "            pred = mlp.predict(model_input_sample.reshape(-1,19*7))\n",
        "            error[t].append(np.abs(pred - true_sample[19+t]))\n",
        "            model_input_sample = (list(model_input_sample))\n",
        "            model_input_sample.append(pred.reshape(-1))\n",
        "            model_input_sample = np.array(model_input_sample)[-19:, :]"
      ],
      "metadata": {
        "execution": {
          "iopub.status.busy": "2024-04-24T15:17:20.516116Z",
          "iopub.execute_input": "2024-04-24T15:17:20.516517Z",
          "iopub.status.idle": "2024-04-24T15:17:22.961931Z",
          "shell.execute_reply.started": "2024-04-24T15:17:20.516482Z",
          "shell.execute_reply": "2024-04-24T15:17:22.960925Z"
        },
        "trusted": true,
        "id": "vrlJrPQHNHV0"
      },
      "execution_count": 13,
      "outputs": []
    },
    {
      "cell_type": "code",
      "source": [
        "plt.plot([np.mean(error[t]) for t in range(1,11)])\n",
        "plt.xlabel(\"Number of time steps ahead being predicted\")\n",
        "plt.ylabel(\"Absolute error\")\n",
        "plt.show()"
      ],
      "metadata": {
        "execution": {
          "iopub.status.busy": "2024-04-24T15:19:01.556128Z",
          "iopub.execute_input": "2024-04-24T15:19:01.556547Z",
          "iopub.status.idle": "2024-04-24T15:19:01.731757Z",
          "shell.execute_reply.started": "2024-04-24T15:19:01.556513Z",
          "shell.execute_reply": "2024-04-24T15:19:01.730644Z"
        },
        "trusted": true,
        "colab": {
          "base_uri": "https://localhost:8080/",
          "height": 448
        },
        "id": "ozgagpQpNHV1",
        "outputId": "f4aa4be9-0e2e-4b1b-82c6-10f53c9f905a"
      },
      "execution_count": 14,
      "outputs": [
        {
          "output_type": "display_data",
          "data": {
            "text/plain": [
              "<Figure size 640x480 with 1 Axes>"
            ],
            "image/png": "[encoded data removed]"
          },
          "metadata": {}
        }
      ]
    },
    {
      "cell_type": "markdown",
      "source": [
        "Error increases as we try to predicted further ahead"
      ],
      "metadata": {
        "id": "k5U3ZGjNNHV1"
      }
    },
    {
      "cell_type": "markdown",
      "source": [
        "# Fault Classification"
      ],
      "metadata": {
        "id": "nSwGGP_DNHVm"
      }
    },
    {
      "cell_type": "markdown",
      "source": [
        "## Same domain - Training on domain 0, testing on domain 0"
      ],
      "metadata": {
        "id": "iMa88vQzNHVm"
      }
    },
    {
      "cell_type": "code",
      "source": [
        "X = df[df['domain_label'] == 0].iloc[:, :-4]\n",
        "y = df[df['domain_label'] == 0].iloc[:, -4]\n",
        "\n",
        "X_train, X_test, y_train, y_test = train_test_split(X, y, stratify=y, random_state=53)\n",
        "print(\"X_train shape \", X_train.shape, \"| y_train shape \", y_train.shape)\n",
        "print(\"X_test shape \", X_test.shape, \"| y_test shape \", y_test.shape)"
      ],
      "metadata": {
        "execution": {
          "iopub.status.busy": "2024-04-24T13:39:47.064492Z",
          "iopub.execute_input": "2024-04-24T13:39:47.064922Z",
          "iopub.status.idle": "2024-04-24T13:39:47.113252Z",
          "shell.execute_reply.started": "2024-04-24T13:39:47.064889Z",
          "shell.execute_reply": "2024-04-24T13:39:47.112078Z"
        },
        "trusted": true,
        "id": "LEEGmzwzNHVm",
        "outputId": "37405096-0f82-46ae-e32d-7994a8b79ebc"
      },
      "execution_count": null,
      "outputs": [
        {
          "name": "stdout",
          "text": "X_train shape  (975, 1400) | y_train shape  (975,)\nX_test shape  (325, 1400) | y_test shape  (325,)\n",
          "output_type": "stream"
        }
      ]
    },
    {
      "cell_type": "code",
      "source": [
        "def train_and_evaluate(model, X_train, X_test, y_train, y_test, n_components):\n",
        "    pca = PCA(n_components=n_components)\n",
        "\n",
        "    pipeline = Pipeline([\n",
        "        (\"scaler\", StandardScaler()),\n",
        "        (\"pca\", pca),\n",
        "        (\"model\", model)\n",
        "    ])\n",
        "\n",
        "    print(f\"Pipeline used : {pipeline}\")\n",
        "\n",
        "    pipeline.fit(X_train, y_train)\n",
        "\n",
        "    accuracy = pipeline.score(X_test, y_test)\n",
        "    print(f\"\\nAccuracy using {model} as prediction model:\", accuracy)\n",
        "\n",
        "    y_pred = pipeline.predict(X_test)\n",
        "    conf_matrix = confusion_matrix(y_test, y_pred)\n",
        "\n",
        "    print(f\"\\nConfusion Matrix using {model} as prediction model:\")\n",
        "    print(conf_matrix)\n",
        "\n",
        "    return pipeline, accuracy"
      ],
      "metadata": {
        "execution": {
          "iopub.status.busy": "2024-04-24T13:07:38.425816Z",
          "iopub.execute_input": "2024-04-24T13:07:38.426236Z",
          "iopub.status.idle": "2024-04-24T13:07:38.434729Z",
          "shell.execute_reply.started": "2024-04-24T13:07:38.426206Z",
          "shell.execute_reply": "2024-04-24T13:07:38.433310Z"
        },
        "trusted": true,
        "id": "1D7gaHilNHVn"
      },
      "execution_count": null,
      "outputs": []
    },
    {
      "cell_type": "code",
      "source": [
        "same_domain_results = {\"model\":[], \"accuracy\":[]}"
      ],
      "metadata": {
        "execution": {
          "iopub.status.busy": "2024-04-24T13:09:44.622212Z",
          "iopub.execute_input": "2024-04-24T13:09:44.622680Z",
          "iopub.status.idle": "2024-04-24T13:09:44.628262Z",
          "shell.execute_reply.started": "2024-04-24T13:09:44.622646Z",
          "shell.execute_reply": "2024-04-24T13:09:44.627001Z"
        },
        "trusted": true,
        "id": "lJ-T9tQsNHVn"
      },
      "execution_count": null,
      "outputs": []
    },
    {
      "cell_type": "markdown",
      "source": [
        "### Logistic Regression"
      ],
      "metadata": {
        "id": "RUDZcr7CNHVn"
      }
    },
    {
      "cell_type": "code",
      "source": [
        "logreg = LogisticRegression(max_iter=10000)\n",
        "pipeline, accuracy = train_and_evaluate(logreg, X_train, X_test, y_train, y_test, 64)\n",
        "\n",
        "same_domain_results['model'].append('Logistic Regression')\n",
        "same_domain_results['accuracy'].append(accuracy)"
      ],
      "metadata": {
        "execution": {
          "iopub.status.busy": "2024-04-24T13:09:47.120880Z",
          "iopub.execute_input": "2024-04-24T13:09:47.121292Z",
          "iopub.status.idle": "2024-04-24T13:09:50.285040Z",
          "shell.execute_reply.started": "2024-04-24T13:09:47.121259Z",
          "shell.execute_reply": "2024-04-24T13:09:50.283562Z"
        },
        "trusted": true,
        "id": "8nySnWtFNHVo",
        "outputId": "76614551-33e6-4b80-b262-bba17d363797"
      },
      "execution_count": null,
      "outputs": [
        {
          "name": "stdout",
          "text": "Pipeline used : Pipeline(steps=[('scaler', StandardScaler()), ('pca', PCA(n_components=64)),\n                ('model', LogisticRegression(max_iter=10000))])\n\nAccuracy using LogisticRegression(max_iter=10000) as prediction model: 0.7784615384615384\n\nConfusion Matrix using LogisticRegression(max_iter=10000) as prediction model:\n[[24  0  0  0  0  0  0  0  0  1  0  0  0]\n [ 0 25  0  0  0  0  0  0  0  0  0  0  0]\n [ 0  0 25  0  0  0  0  0  0  0  0  0  0]\n [ 0  0  0 25  0  0  0  0  0  0  0  0  0]\n [ 0  0  0  0 25  0  0  0  0  0  0  0  0]\n [ 0  0  0  0  0 25  0  0  0  0  0  0  0]\n [ 0  0  0  0  0  0 25  0  0  0  0  0  0]\n [ 0  0  0  0  0  0  0 25  0  0  0  0  0]\n [ 0  0  0  0  0  0  0  0 25  0  0  0  0]\n [ 0  0  0  0  0  0  0  0  0 12  5  4  4]\n [ 0  0  0  0  0  0  0  0  0  4  7  7  7]\n [ 0  0  0  0  0  0  0  0  0  9  6  4  6]\n [ 0  0  0  0  0  0  0  0  0  5  9  5  6]]\n",
          "output_type": "stream"
        }
      ]
    },
    {
      "cell_type": "markdown",
      "source": [
        "### KNN"
      ],
      "metadata": {
        "id": "463XRkM1NHVo"
      }
    },
    {
      "cell_type": "code",
      "source": [
        "knn = KNeighborsClassifier()\n",
        "pipeline, accuracy = train_and_evaluate(knn, X_train, X_test, y_train, y_test, 64)\n",
        "\n",
        "same_domain_results['model'].append('K Nearest Neighbours')\n",
        "same_domain_results['accuracy'].append(accuracy)"
      ],
      "metadata": {
        "execution": {
          "iopub.status.busy": "2024-04-24T13:11:26.522593Z",
          "iopub.execute_input": "2024-04-24T13:11:26.523055Z",
          "iopub.status.idle": "2024-04-24T13:11:28.038954Z",
          "shell.execute_reply.started": "2024-04-24T13:11:26.523021Z",
          "shell.execute_reply": "2024-04-24T13:11:28.037598Z"
        },
        "trusted": true,
        "id": "2hHknrSfNHVp",
        "outputId": "986225b8-0307-4204-e589-61c443689eee"
      },
      "execution_count": null,
      "outputs": [
        {
          "name": "stdout",
          "text": "Pipeline used : Pipeline(steps=[('scaler', StandardScaler()), ('pca', PCA(n_components=64)),\n                ('model', KNeighborsClassifier())])\n\nAccuracy using KNeighborsClassifier() as prediction model: 0.9661538461538461\n\nConfusion Matrix using KNeighborsClassifier() as prediction model:\n[[25  0  0  0  0  0  0  0  0  0  0  0  0]\n [ 0 25  0  0  0  0  0  0  0  0  0  0  0]\n [ 0  0 25  0  0  0  0  0  0  0  0  0  0]\n [ 0  0  0 25  0  0  0  0  0  0  0  0  0]\n [ 0  0  0  0 25  0  0  0  0  0  0  0  0]\n [ 0  0  0  0  0 25  0  0  0  0  0  0  0]\n [ 0  0  0  0  0  0 25  0  0  0  0  0  0]\n [ 0  0  0  0  0  0  0 25  0  0  0  0  0]\n [ 0  0  0  0  0  0  0  0 25  0  0  0  0]\n [ 0  0  0  0  0  0  0  0  0 21  0  0  4]\n [ 0  0  0  0  0  0  0  0  0  0 21  0  4]\n [ 0  0  0  0  0  0  0  0  0  0  0 22  3]\n [ 0  0  0  0  0  0  0  0  0  0  0  0 25]]\n",
          "output_type": "stream"
        }
      ]
    },
    {
      "cell_type": "markdown",
      "source": [
        "### SVM Classifier"
      ],
      "metadata": {
        "id": "0zAH7SntNHVp"
      }
    },
    {
      "cell_type": "code",
      "source": [
        "svm = SVC()\n",
        "pipeline, accuracy = train_and_evaluate(svm, X_train, X_test, y_train, y_test, 64)\n",
        "\n",
        "same_domain_results['model'].append('SVM')\n",
        "same_domain_results['accuracy'].append(accuracy)"
      ],
      "metadata": {
        "execution": {
          "iopub.status.busy": "2024-04-24T13:11:53.076676Z",
          "iopub.execute_input": "2024-04-24T13:11:53.077558Z",
          "iopub.status.idle": "2024-04-24T13:11:54.138881Z",
          "shell.execute_reply.started": "2024-04-24T13:11:53.077517Z",
          "shell.execute_reply": "2024-04-24T13:11:54.137200Z"
        },
        "trusted": true,
        "id": "YiCNRsLjNHVp",
        "outputId": "9a296dea-d09c-4aaf-915f-19d382fcba30"
      },
      "execution_count": null,
      "outputs": [
        {
          "name": "stdout",
          "text": "Pipeline used : Pipeline(steps=[('scaler', StandardScaler()), ('pca', PCA(n_components=64)),\n                ('model', SVC())])\n\nAccuracy using SVC() as prediction model: 0.9292307692307692\n\nConfusion Matrix using SVC() as prediction model:\n[[25  0  0  0  0  0  0  0  0  0  0  0  0]\n [ 0 25  0  0  0  0  0  0  0  0  0  0  0]\n [ 0  0 25  0  0  0  0  0  0  0  0  0  0]\n [ 0  0  0 25  0  0  0  0  0  0  0  0  0]\n [ 0  0  0  0 25  0  0  0  0  0  0  0  0]\n [ 0  0  0  0  0 25  0  0  0  0  0  0  0]\n [ 0  0  0  0  0  0 25  0  0  0  0  0  0]\n [ 0  0  0  0  0  0  0 25  0  0  0  0  0]\n [ 0  0  0  0  0  0  0  0 25  0  0  0  0]\n [ 0  0  0  0  0  0  0  0  2 16  1  0  6]\n [ 0  0  0  0  0  0  0  0  0  0 18  0  7]\n [ 0  0  0  0  0  0  0  0  0  0  0 18  7]\n [ 0  0  0  0  0  0  0  0  0  0  0  0 25]]\n",
          "output_type": "stream"
        }
      ]
    },
    {
      "cell_type": "markdown",
      "source": [
        "### Shallow Neural Network"
      ],
      "metadata": {
        "id": "wVMxaNopNHVq"
      }
    },
    {
      "cell_type": "code",
      "source": [
        "mlp = MLPClassifier(hidden_layer_sizes=(64, 16), max_iter=10000)\n",
        "pipeline, accuracy = train_and_evaluate(mlp, X_train, X_test, y_train, y_test, 64)\n",
        "\n",
        "same_domain_results['model'].append('2 Layer Neural Network')\n",
        "same_domain_results['accuracy'].append(accuracy)"
      ],
      "metadata": {
        "execution": {
          "iopub.status.busy": "2024-04-24T13:12:51.421471Z",
          "iopub.execute_input": "2024-04-24T13:12:51.422073Z",
          "iopub.status.idle": "2024-04-24T13:12:54.455311Z",
          "shell.execute_reply.started": "2024-04-24T13:12:51.422033Z",
          "shell.execute_reply": "2024-04-24T13:12:54.453857Z"
        },
        "trusted": true,
        "id": "dGaoSUR7NHVq",
        "outputId": "15f42e70-4023-4061-c77e-9508b7854f06"
      },
      "execution_count": null,
      "outputs": [
        {
          "name": "stdout",
          "text": "Pipeline used : Pipeline(steps=[('scaler', StandardScaler()), ('pca', PCA(n_components=64)),\n                ('model',\n                 MLPClassifier(hidden_layer_sizes=(64, 16), max_iter=10000))])\n\nAccuracy using MLPClassifier(hidden_layer_sizes=(64, 16), max_iter=10000) as prediction model: 0.9784615384615385\n\nConfusion Matrix using MLPClassifier(hidden_layer_sizes=(64, 16), max_iter=10000) as prediction model:\n[[25  0  0  0  0  0  0  0  0  0  0  0  0]\n [ 0 25  0  0  0  0  0  0  0  0  0  0  0]\n [ 0  0 25  0  0  0  0  0  0  0  0  0  0]\n [ 0  0  0 25  0  0  0  0  0  0  0  0  0]\n [ 0  0  0  0 25  0  0  0  0  0  0  0  0]\n [ 0  0  0  0  0 25  0  0  0  0  0  0  0]\n [ 0  0  0  0  0  0 25  0  0  0  0  0  0]\n [ 0  0  0  0  0  0  0 25  0  0  0  0  0]\n [ 0  0  0  0  0  0  0  0 25  0  0  0  0]\n [ 0  0  0  0  0  0  0  0  0 22  0  0  3]\n [ 0  0  0  0  0  0  0  0  0  0 22  0  3]\n [ 0  0  0  0  0  0  0  0  0  0  0 24  1]\n [ 0  0  0  0  0  0  0  0  0  0  0  0 25]]\n",
          "output_type": "stream"
        }
      ]
    },
    {
      "cell_type": "code",
      "source": [
        "print(\"Results using different models | Here PCA components used is fixed at 64\")\n",
        "pd.DataFrame(same_domain_results)"
      ],
      "metadata": {
        "execution": {
          "iopub.status.busy": "2024-04-24T13:40:45.866739Z",
          "iopub.execute_input": "2024-04-24T13:40:45.867156Z",
          "iopub.status.idle": "2024-04-24T13:40:45.880006Z",
          "shell.execute_reply.started": "2024-04-24T13:40:45.867124Z",
          "shell.execute_reply": "2024-04-24T13:40:45.878844Z"
        },
        "trusted": true,
        "id": "Bc_O_IIkNHVr",
        "outputId": "22ac055f-8d81-4bff-9fa0-b620ab7d4156"
      },
      "execution_count": null,
      "outputs": [
        {
          "name": "stdout",
          "text": "Results using different models | Here PCA components used is fixed at 64\n",
          "output_type": "stream"
        },
        {
          "execution_count": 31,
          "output_type": "execute_result",
          "data": {
            "text/plain": "                    model  accuracy\n0     Logistic Regression  0.778462\n1    K Nearest Neighbours  0.966154\n2                     SVM  0.929231\n3  2 Layer Neural Network  0.978462",
            "text/html": "<div>\n<style scoped>\n    .dataframe tbody tr th:only-of-type {\n        vertical-align: middle;\n    }\n\n    .dataframe tbody tr th {\n        vertical-align: top;\n    }\n\n    .dataframe thead th {\n        text-align: right;\n    }\n</style>\n<table border=\"1\" class=\"dataframe\">\n  <thead>\n    <tr style=\"text-align: right;\">\n      <th></th>\n      <th>model</th>\n      <th>accuracy</th>\n    </tr>\n  </thead>\n  <tbody>\n    <tr>\n      <th>0</th>\n      <td>Logistic Regression</td>\n      <td>0.778462</td>\n    </tr>\n    <tr>\n      <th>1</th>\n      <td>K Nearest Neighbours</td>\n      <td>0.966154</td>\n    </tr>\n    <tr>\n      <th>2</th>\n      <td>SVM</td>\n      <td>0.929231</td>\n    </tr>\n    <tr>\n      <th>3</th>\n      <td>2 Layer Neural Network</td>\n      <td>0.978462</td>\n    </tr>\n  </tbody>\n</table>\n</div>"
          },
          "metadata": {}
        }
      ]
    },
    {
      "cell_type": "markdown",
      "source": [
        "### Varying PCA Components"
      ],
      "metadata": {
        "id": "JPluDYC4NHVr"
      }
    },
    {
      "cell_type": "code",
      "source": [
        "print(\"Model used is SVM(Support Vector Machine)\")\n",
        "for n_components in [2, 4, 8, 16, 64, 128, 512]:\n",
        "    model = SVC()\n",
        "    pca = PCA(n_components=n_components)\n",
        "    pipeline = Pipeline([\n",
        "        (\"scaler\", StandardScaler()),\n",
        "        (\"pca\", pca),\n",
        "        (\"model\", model)\n",
        "    ])\n",
        "    pipeline.fit(X_train, y_train)\n",
        "    accuracy = pipeline.score(X_test, y_test)\n",
        "\n",
        "    print(f\"Data is projected to - {n_components} dimensions using PCA, accuracy - {accuracy}\")"
      ],
      "metadata": {
        "execution": {
          "iopub.status.busy": "2024-04-24T13:48:07.715509Z",
          "iopub.execute_input": "2024-04-24T13:48:07.715950Z",
          "iopub.status.idle": "2024-04-24T13:48:12.779125Z",
          "shell.execute_reply.started": "2024-04-24T13:48:07.715914Z",
          "shell.execute_reply": "2024-04-24T13:48:12.777818Z"
        },
        "trusted": true,
        "id": "fKTx-eZlNHVr",
        "outputId": "c88bf7fb-b7c2-4969-d3ed-724f9331a198"
      },
      "execution_count": null,
      "outputs": [
        {
          "name": "stdout",
          "text": "Model used is SVM(Support Vector Machine)\nData is projected to - 2 dimensions using PCA, accuracy - 0.803076923076923\nData is projected to - 4 dimensions using PCA, accuracy - 0.8338461538461538\nData is projected to - 8 dimensions using PCA, accuracy - 0.8738461538461538\nData is projected to - 16 dimensions using PCA, accuracy - 0.9292307692307692\nData is projected to - 64 dimensions using PCA, accuracy - 0.9292307692307692\nData is projected to - 128 dimensions using PCA, accuracy - 0.9292307692307692\nData is projected to - 512 dimensions using PCA, accuracy - 0.9261538461538461\n",
          "output_type": "stream"
        }
      ]
    },
    {
      "cell_type": "markdown",
      "source": [
        "Observation - after some number of components, all the information needed is captured by PCA, so score doesnt increase"
      ],
      "metadata": {
        "id": "Vc-ty9bqNHVr"
      }
    },
    {
      "cell_type": "markdown",
      "source": [
        "## Cross Domain Testing - Training on domain 0 & testing on domain 1"
      ],
      "metadata": {
        "id": "Magez8BUNHVs"
      }
    },
    {
      "cell_type": "code",
      "source": [
        "X_train = df[df['domain_label'] == 0].iloc[:, :-4]\n",
        "y_train = df[df['domain_label'] == 0].iloc[:, -4]\n",
        "\n",
        "X_test = df[df['domain_label'] == 1].iloc[:, :-4]\n",
        "y_test = df[df['domain_label'] == 1].iloc[:, -4]\n",
        "\n",
        "print(\"X_train shape \", X_train.shape, \"| y_train shape \", y_train.shape)\n",
        "print(\"X_test shape \", X_test.shape, \"| y_test shape \", y_test.shape)"
      ],
      "metadata": {
        "execution": {
          "iopub.status.busy": "2024-04-24T13:50:55.386670Z",
          "iopub.execute_input": "2024-04-24T13:50:55.387124Z",
          "iopub.status.idle": "2024-04-24T13:50:55.416915Z",
          "shell.execute_reply.started": "2024-04-24T13:50:55.387093Z",
          "shell.execute_reply": "2024-04-24T13:50:55.415819Z"
        },
        "trusted": true,
        "id": "6-Rsc7OKNHVs",
        "outputId": "d9e31e00-fc37-4232-c3b9-3c4e222bec37"
      },
      "execution_count": null,
      "outputs": [
        {
          "name": "stdout",
          "text": "X_train shape  (1300, 1400) | y_train shape  (1300,)\nX_test shape  (260, 1400) | y_test shape  (260,)\n",
          "output_type": "stream"
        }
      ]
    },
    {
      "cell_type": "markdown",
      "source": [
        "### Logistic Regression"
      ],
      "metadata": {
        "id": "Afrn6QlFNHVs"
      }
    },
    {
      "cell_type": "code",
      "source": [
        "logreg = LogisticRegression(max_iter=10000)\n",
        "train_and_evaluate(logreg, X_train, X_test, y_train, y_test, 64)"
      ],
      "metadata": {
        "execution": {
          "iopub.status.busy": "2024-04-24T13:50:55.856492Z",
          "iopub.execute_input": "2024-04-24T13:50:55.856915Z",
          "iopub.status.idle": "2024-04-24T13:51:00.062720Z",
          "shell.execute_reply.started": "2024-04-24T13:50:55.856880Z",
          "shell.execute_reply": "2024-04-24T13:51:00.061163Z"
        },
        "trusted": true,
        "id": "imYDiy24NHVs",
        "outputId": "8d4e9be9-1a34-458e-8382-8c415f2131ef"
      },
      "execution_count": null,
      "outputs": [
        {
          "name": "stdout",
          "text": "Pipeline used : Pipeline(steps=[('scaler', StandardScaler()), ('pca', PCA(n_components=64)),\n                ('model', LogisticRegression(max_iter=10000))])\n\nAccuracy using LogisticRegression(max_iter=10000) as prediction model: 0.47307692307692306\n\nConfusion Matrix using LogisticRegression(max_iter=10000) as prediction model:\n[[17  0  0  0  0  0  0  0  2  1  0  0  0]\n [ 0 13  0  0  0  0  0  0  0  1  0  0  6]\n [ 0  0 12  0  0  0  0  0  8  0  0  0  0]\n [ 0  0  0 10  0  0  0  0  6  4  0  0  0]\n [ 0  0  0  0 15  0  0  0  3  2  0  0  0]\n [ 0  0  0  0  0 11  0  0  3  6  0  0  0]\n [ 0  0  0  0  0  0 11  0  0  9  0  0  0]\n [ 0  0  0  0  0  0  0  8  0 12  0  0  0]\n [ 0  0  0  0  0  0  0  0 11  3  2  2  2]\n [ 0  0  0  0  0  0  0  0  7  8  1  0  4]\n [ 0  0  0  0  0  0  0  0  0 13  4  1  2]\n [ 0  0  0  0  0  0  0  0  8  7  2  0  3]\n [ 0  0  0  0  0  0  0  0  6 11  0  0  3]]\n",
          "output_type": "stream"
        },
        {
          "execution_count": 42,
          "output_type": "execute_result",
          "data": {
            "text/plain": "(Pipeline(steps=[('scaler', StandardScaler()), ('pca', PCA(n_components=64)),\n                 ('model', LogisticRegression(max_iter=10000))]),\n 0.47307692307692306)"
          },
          "metadata": {}
        }
      ]
    },
    {
      "cell_type": "markdown",
      "source": [
        "### KNN"
      ],
      "metadata": {
        "id": "cjRVd_pdNHVt"
      }
    },
    {
      "cell_type": "code",
      "source": [
        "knn = KNeighborsClassifier()\n",
        "train_and_evaluate(knn, X_train, X_test, y_train, y_test, 64)"
      ],
      "metadata": {
        "execution": {
          "iopub.status.busy": "2024-04-24T13:51:00.071731Z",
          "iopub.execute_input": "2024-04-24T13:51:00.073655Z",
          "iopub.status.idle": "2024-04-24T13:51:01.498560Z",
          "shell.execute_reply.started": "2024-04-24T13:51:00.073576Z",
          "shell.execute_reply": "2024-04-24T13:51:01.496922Z"
        },
        "trusted": true,
        "id": "gt8vn2m_NHVt",
        "outputId": "e6a603db-3ca8-4e56-e6b6-ad163673a0fb"
      },
      "execution_count": null,
      "outputs": [
        {
          "name": "stdout",
          "text": "Pipeline used : Pipeline(steps=[('scaler', StandardScaler()), ('pca', PCA(n_components=64)),\n                ('model', KNeighborsClassifier())])\n\nAccuracy using KNeighborsClassifier() as prediction model: 0.7615384615384615\n\nConfusion Matrix using KNeighborsClassifier() as prediction model:\n[[14  0  0  0  0  0  0  0  2  4  0  0  0]\n [ 0 15  0  0  0  0  0  0  0  5  0  0  0]\n [ 0  0 20  0  0  0  0  0  0  0  0  0  0]\n [ 0  0  0 20  0  0  0  0  0  0  0  0  0]\n [ 0  0  0  0 20  0  0  0  0  0  0  0  0]\n [ 0  0  0  0  0 20  0  0  0  0  0  0  0]\n [ 0  0  0  0  0  0 13  0  0  7  0  0  0]\n [ 0  0  0  0  0  0  0 16  0  4  0  0  0]\n [ 0  0  0  0  0  0  0  0 11  3  0  0  6]\n [ 0  0  0  0  0  0  0  0  1 19  0  0  0]\n [ 0  0  0  0  0  0  0  0  2  2 15  0  1]\n [ 0  0  0  0  0  0  0  0  3  5  0 11  1]\n [ 0  0  0  0  0  0  0  0  6 10  0  0  4]]\n",
          "output_type": "stream"
        },
        {
          "execution_count": 43,
          "output_type": "execute_result",
          "data": {
            "text/plain": "(Pipeline(steps=[('scaler', StandardScaler()), ('pca', PCA(n_components=64)),\n                 ('model', KNeighborsClassifier())]),\n 0.7615384615384615)"
          },
          "metadata": {}
        }
      ]
    },
    {
      "cell_type": "markdown",
      "source": [
        "### SVM Classifier"
      ],
      "metadata": {
        "id": "jg6wCoHlNHVt"
      }
    },
    {
      "cell_type": "code",
      "source": [
        "svm = SVC()\n",
        "train_and_evaluate(svm, X_train, X_test, y_train, y_test, 64)"
      ],
      "metadata": {
        "execution": {
          "iopub.status.busy": "2024-04-24T13:51:01.500359Z",
          "iopub.execute_input": "2024-04-24T13:51:01.510241Z",
          "iopub.status.idle": "2024-04-24T13:51:02.494868Z",
          "shell.execute_reply.started": "2024-04-24T13:51:01.510159Z",
          "shell.execute_reply": "2024-04-24T13:51:02.493695Z"
        },
        "trusted": true,
        "id": "rFDWCMdvNHVt",
        "outputId": "51ab906b-5825-491f-e989-922b8a50bfc9"
      },
      "execution_count": null,
      "outputs": [
        {
          "name": "stdout",
          "text": "Pipeline used : Pipeline(steps=[('scaler', StandardScaler()), ('pca', PCA(n_components=64)),\n                ('model', SVC())])\n\nAccuracy using SVC() as prediction model: 0.7423076923076923\n\nConfusion Matrix using SVC() as prediction model:\n[[19  0  0  0  0  0  0  0  0  1  0  0  0]\n [ 0 15  0  0  0  0  0  0  0  5  0  0  0]\n [ 1  0 19  0  0  0  0  0  0  0  0  0  0]\n [ 2  0  0 18  0  0  0  0  0  0  0  0  0]\n [ 0  0  0  0 20  0  0  0  0  0  0  0  0]\n [ 3  0  0  0  0 17  0  0  0  0  0  0  0]\n [ 0  2  0  0  0  0 16  0  0  2  0  0  0]\n [ 0  0  0  0  0  0  0 19  0  1  0  0  0]\n [ 0  0  0  0  0  0  0  0 11  3  0  0  6]\n [ 1  0  0  0  0  0  0  0  1 18  0  0  0]\n [ 0  0  0  0  0  0  0  0  2  4 11  0  3]\n [ 1  0  0  0  0  0  0  0  3  9  0  6  1]\n [ 0  0  0  0  0  0  0  0  7  9  0  0  4]]\n",
          "output_type": "stream"
        },
        {
          "execution_count": 44,
          "output_type": "execute_result",
          "data": {
            "text/plain": "(Pipeline(steps=[('scaler', StandardScaler()), ('pca', PCA(n_components=64)),\n                 ('model', SVC())]),\n 0.7423076923076923)"
          },
          "metadata": {}
        }
      ]
    },
    {
      "cell_type": "markdown",
      "source": [
        "### Shallow Neural Network"
      ],
      "metadata": {
        "id": "HfAIoY-YNHVu"
      }
    },
    {
      "cell_type": "code",
      "source": [
        "mlp = MLPClassifier(hidden_layer_sizes=(64, 16), max_iter=10000)\n",
        "mlp_pipeline, accuracy = train_and_evaluate(mlp, X_train, X_test, y_train, y_test, 64)"
      ],
      "metadata": {
        "execution": {
          "iopub.status.busy": "2024-04-24T13:56:31.538513Z",
          "iopub.execute_input": "2024-04-24T13:56:31.538916Z",
          "iopub.status.idle": "2024-04-24T13:56:35.102078Z",
          "shell.execute_reply.started": "2024-04-24T13:56:31.538886Z",
          "shell.execute_reply": "2024-04-24T13:56:35.100554Z"
        },
        "trusted": true,
        "id": "u781Y3KdNHVu",
        "outputId": "9a1fffc2-eda1-4436-a8d3-ed1cbebf9fa4"
      },
      "execution_count": null,
      "outputs": [
        {
          "name": "stdout",
          "text": "Pipeline used : Pipeline(steps=[('scaler', StandardScaler()), ('pca', PCA(n_components=64)),\n                ('model',\n                 MLPClassifier(hidden_layer_sizes=(64, 16), max_iter=10000))])\n\nAccuracy using MLPClassifier(hidden_layer_sizes=(64, 16), max_iter=10000) as prediction model: 0.7615384615384615\n\nConfusion Matrix using MLPClassifier(hidden_layer_sizes=(64, 16), max_iter=10000) as prediction model:\n[[17  0  0  0  0  0  0  0  0  2  1  0  0]\n [ 0 16  0  0  0  0  0  0  0  4  0  0  0]\n [ 0  0 16  0  0  0  0  0  0  4  0  0  0]\n [ 0  0  0 19  0  0  0  0  0  0  1  0  0]\n [ 0  0  0  0 18  0  0  0  0  0  0  2  0]\n [ 0  0  0  0  0 18  0  0  0  2  0  0  0]\n [ 0  5  0  0  0  0 14  0  0  1  0  0  0]\n [ 0  0  0  0  0  0  0 17  0  3  0  0  0]\n [ 0  0  0  0  0  0  0  0 11  2  4  0  3]\n [ 0  0  0  0  0  0  0  0  1 19  0  0  0]\n [ 0  0  0  0  0  0  0  0  0  2 17  1  0]\n [ 0  0  0  0  0  0  0  0  2  5  0 12  1]\n [ 0  0  0  0  0  0  0  0  2 13  0  1  4]]\n",
          "output_type": "stream"
        }
      ]
    },
    {
      "cell_type": "code",
      "source": [
        "print(\"Confusion matrix for 2 layer NN trained on domain 0, tested on domain 1:\\n\")\n",
        "y_pred = mlp_pipeline.predict(X_test)\n",
        "sns.heatmap(confusion_matrix(y_test, y_pred), annot=True, cmap='coolwarm')\n",
        "plt.title('Confusion matrix of cross domain fault classification')\n",
        "plt.show()"
      ],
      "metadata": {
        "execution": {
          "iopub.status.busy": "2024-04-24T13:56:40.101470Z",
          "iopub.execute_input": "2024-04-24T13:56:40.101889Z",
          "iopub.status.idle": "2024-04-24T13:56:40.982241Z",
          "shell.execute_reply.started": "2024-04-24T13:56:40.101857Z",
          "shell.execute_reply": "2024-04-24T13:56:40.981132Z"
        },
        "trusted": true,
        "id": "mJpRy_ArNHVu",
        "outputId": "71bfd184-d6d0-4e69-c7ae-35d42cff5728"
      },
      "execution_count": null,
      "outputs": [
        {
          "name": "stdout",
          "text": "Confusion matrix for 2 layer NN trained on domain 0, tested on domain 1:\n\n",
          "output_type": "stream"
        },
        {
          "output_type": "display_data",
          "data": {
            "text/plain": "<Figure size 640x480 with 2 Axes>",
            "image/png": "[encoded data removed]"
          },
          "metadata": {}
        }
      ]
    },
    {
      "cell_type": "markdown",
      "source": [
        "## Cross domain validation for all domains"
      ],
      "metadata": {
        "id": "3YH2ex4kNHVv"
      }
    },
    {
      "cell_type": "code",
      "source": [
        "print(\"Using K Nearest Neighbours Model\")\n",
        "for domain in range(1, 7):\n",
        "    X_train = df[df['domain_label'] == 0].iloc[:, :-4]\n",
        "    y_train = df[df['domain_label'] == 0].iloc[:, -4]\n",
        "\n",
        "    X_test = df[df['domain_label'] == domain].iloc[:, :-4]\n",
        "    y_test = df[df['domain_label'] == domain].iloc[:, -4]\n",
        "\n",
        "    model = KNeighborsClassifier()\n",
        "    pca = PCA(n_components=n_components)\n",
        "\n",
        "    pipeline = Pipeline([\n",
        "        (\"scaler\", StandardScaler()),\n",
        "        (\"pca\", pca),\n",
        "        (\"model\", model)\n",
        "    ])\n",
        "\n",
        "    pipeline.fit(X_train, y_train)\n",
        "    accuracy = pipeline.score(X_test, y_test)\n",
        "\n",
        "    print(f\"Training on domain 0({len(X_train)} samples), testing on domain {domain} ({len(X_test)} samples) | Accuracy - {accuracy}\")"
      ],
      "metadata": {
        "execution": {
          "iopub.status.busy": "2024-04-24T14:03:19.442345Z",
          "iopub.execute_input": "2024-04-24T14:03:19.442783Z",
          "iopub.status.idle": "2024-04-24T14:03:27.998554Z",
          "shell.execute_reply.started": "2024-04-24T14:03:19.442736Z",
          "shell.execute_reply": "2024-04-24T14:03:27.997367Z"
        },
        "trusted": true,
        "id": "SoutM7EQNHVv",
        "outputId": "e14c502b-e09f-49af-a302-70a057ecdecb"
      },
      "execution_count": null,
      "outputs": [
        {
          "name": "stdout",
          "text": "Using K Nearest Neighbours Model\nTraining on domain 0(1300 samples), testing on domain 1 (260 samples) | Accuracy - 0.7653846153846153\nTraining on domain 0(1300 samples), testing on domain 2 (260 samples) | Accuracy - 0.6\nTraining on domain 0(1300 samples), testing on domain 3 (260 samples) | Accuracy - 0.5538461538461539\nTraining on domain 0(1300 samples), testing on domain 4 (260 samples) | Accuracy - 0.5192307692307693\nTraining on domain 0(1300 samples), testing on domain 5 (260 samples) | Accuracy - 0.47692307692307695\nTraining on domain 0(1300 samples), testing on domain 6 (260 samples) | Accuracy - 0.25769230769230766\n",
          "output_type": "stream"
        }
      ]
    },
    {
      "cell_type": "markdown",
      "source": [
        "Repeating above cross domain testing for all models"
      ],
      "metadata": {
        "id": "bdplDjVONHVw"
      }
    },
    {
      "cell_type": "code",
      "source": [
        "cross_domain_df = pd.DataFrame()\n",
        "\n",
        "for domain in range(1, 7):\n",
        "    X_train = df[df['domain_label'] == 0].iloc[:, :-4]\n",
        "    y_train = df[df['domain_label'] == 0].iloc[:, -4]\n",
        "\n",
        "    X_test = df[df['domain_label'] == domain].iloc[:, :-4]\n",
        "    y_test = df[df['domain_label'] == domain].iloc[:, -4]\n",
        "\n",
        "    model = LogisticRegression(max_iter=10000)\n",
        "    pca = PCA(n_components=n_components)\n",
        "    pipeline = Pipeline([\n",
        "        (\"scaler\", StandardScaler()),\n",
        "        (\"pca\", pca),\n",
        "        (\"model\", model)\n",
        "    ])\n",
        "    pipeline.fit(X_train, y_train)\n",
        "    cross_domain_df.loc[f\"domain_{domain}\", \"Logistic Regression\"] = pipeline.score(X_test, y_test)\n",
        "\n",
        "    model = KNeighborsClassifier()\n",
        "    pca = PCA(n_components=n_components)\n",
        "    pipeline = Pipeline([\n",
        "        (\"scaler\", StandardScaler()),\n",
        "        (\"pca\", pca),\n",
        "        (\"model\", model)\n",
        "    ])\n",
        "    pipeline.fit(X_train, y_train)\n",
        "    cross_domain_df.loc[f\"domain_{domain}\", \"KNN\"] = pipeline.score(X_test, y_test)\n",
        "\n",
        "    model = SVC()\n",
        "    pca = PCA(n_components=n_components)\n",
        "    pipeline = Pipeline([\n",
        "        (\"scaler\", StandardScaler()),\n",
        "        (\"pca\", pca),\n",
        "        (\"model\", model)\n",
        "    ])\n",
        "    pipeline.fit(X_train, y_train)\n",
        "    cross_domain_df.loc[f\"domain_{domain}\", \"SVM\"] = pipeline.score(X_test, y_test)\n",
        "\n",
        "    model = MLPClassifier(hidden_layer_sizes=(64, 16), max_iter=10000)\n",
        "    pca = PCA(n_components=n_components)\n",
        "    pipeline = Pipeline([\n",
        "        (\"scaler\", StandardScaler()),\n",
        "        (\"pca\", pca),\n",
        "        (\"model\", model)\n",
        "    ])\n",
        "    pipeline.fit(X_train, y_train)\n",
        "    cross_domain_df.loc[f\"domain_{domain}\", \"2 Layer NN\"] = pipeline.score(X_test, y_test)\n",
        "\n",
        "\n",
        "cross_domain_df"
      ],
      "metadata": {
        "execution": {
          "iopub.status.busy": "2024-04-24T14:08:46.222126Z",
          "iopub.execute_input": "2024-04-24T14:08:46.222578Z",
          "iopub.status.idle": "2024-04-24T14:10:14.640182Z",
          "shell.execute_reply.started": "2024-04-24T14:08:46.222543Z",
          "shell.execute_reply": "2024-04-24T14:10:14.639071Z"
        },
        "trusted": true,
        "id": "Mbdfvm-_NHVw",
        "outputId": "ec6a77c0-1fe1-4228-edc2-9e1cd4e6b13a"
      },
      "execution_count": null,
      "outputs": [
        {
          "execution_count": 70,
          "output_type": "execute_result",
          "data": {
            "text/plain": "          Logistic Regression       KNN       SVM  2 Layer NN\ndomain_1             0.507692  0.765385  0.719231    0.676923\ndomain_2             0.353846  0.600000  0.473077    0.523077\ndomain_3             0.330769  0.553846  0.396154    0.500000\ndomain_4             0.215385  0.519231  0.311538    0.284615\ndomain_5             0.226923  0.480769  0.076923    0.188462\ndomain_6             0.076923  0.261538  0.076923    0.115385",
            "text/html": "<div>\n<style scoped>\n    .dataframe tbody tr th:only-of-type {\n        vertical-align: middle;\n    }\n\n    .dataframe tbody tr th {\n        vertical-align: top;\n    }\n\n    .dataframe thead th {\n        text-align: right;\n    }\n</style>\n<table border=\"1\" class=\"dataframe\">\n  <thead>\n    <tr style=\"text-align: right;\">\n      <th></th>\n      <th>Logistic Regression</th>\n      <th>KNN</th>\n      <th>SVM</th>\n      <th>2 Layer NN</th>\n    </tr>\n  </thead>\n  <tbody>\n    <tr>\n      <th>domain_1</th>\n      <td>0.507692</td>\n      <td>0.765385</td>\n      <td>0.719231</td>\n      <td>0.676923</td>\n    </tr>\n    <tr>\n      <th>domain_2</th>\n      <td>0.353846</td>\n      <td>0.600000</td>\n      <td>0.473077</td>\n      <td>0.523077</td>\n    </tr>\n    <tr>\n      <th>domain_3</th>\n      <td>0.330769</td>\n      <td>0.553846</td>\n      <td>0.396154</td>\n      <td>0.500000</td>\n    </tr>\n    <tr>\n      <th>domain_4</th>\n      <td>0.215385</td>\n      <td>0.519231</td>\n      <td>0.311538</td>\n      <td>0.284615</td>\n    </tr>\n    <tr>\n      <th>domain_5</th>\n      <td>0.226923</td>\n      <td>0.480769</td>\n      <td>0.076923</td>\n      <td>0.188462</td>\n    </tr>\n    <tr>\n      <th>domain_6</th>\n      <td>0.076923</td>\n      <td>0.261538</td>\n      <td>0.076923</td>\n      <td>0.115385</td>\n    </tr>\n  </tbody>\n</table>\n</div>"
          },
          "metadata": {}
        }
      ]
    },
    {
      "cell_type": "markdown",
      "source": [
        "Inference - KNN is most robust across domains"
      ],
      "metadata": {
        "id": "wtmaXHrWNHVx"
      }
    },
    {
      "cell_type": "code",
      "source": [],
      "metadata": {
        "id": "B15aUHYcNHV1"
      },
      "execution_count": null,
      "outputs": []
    }
  ]
}